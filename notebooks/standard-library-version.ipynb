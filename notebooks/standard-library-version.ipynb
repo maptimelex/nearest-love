{
 "cells": [
  {
   "cell_type": "code",
   "execution_count": 52,
   "metadata": {},
   "outputs": [],
   "source": [
    "import csv"
   ]
  },
  {
   "cell_type": "code",
   "execution_count": 53,
   "metadata": {},
   "outputs": [],
   "source": [
    "myData = \"data/NationalFile_20200101.txt\"\n",
    "myOutput = \"data/love-and-valentine.geojson\""
   ]
  },
  {
   "cell_type": "code",
   "execution_count": 54,
   "metadata": {},
   "outputs": [],
   "source": [
    "# Always include home\n",
    "loveCentral = \"\"\"{\"type\": \"Feature\",\n",
    "                 \"properties\": {\n",
    "                    \"FEATURE_NAME\": \"❤️\",\n",
    "                    \"FEATURE_CLASS\": \"Home is where the heart is.\",\n",
    "                    \"STATE_ALPHA\": \"KY, Y'ALL\",\n",
    "                    \"ELEV_IN_FT\": \"-9999\" },\n",
    "                \"geometry\": {\"type\": \"Point\",\"coordinates\":[-84.5042992, 38.0387101]}}\n",
    "                ]}\n",
    "                \"\"\"\n",
    "# Start GeoJSON template\n",
    "templateStart = \"\"\"{\n",
    "    \"type\": \"FeatureCollection\",\n",
    "    \"features\": [\n",
    "\"\"\"\n",
    "\n",
    "with open(myData, encoding = 'utf-8') as csvFile:\n",
    "    #open empty file to write output\n",
    "    with open(myOutput, \"w\", encoding = 'utf-8', newline = \"\") as geoJson:\n",
    "        # create reader object \n",
    "        reader = csv.reader(csvFile, delimiter = '|')\n",
    "        geoJson.write(templateStart)\n",
    "        for row in reader:\n",
    "            # Search for standalone \"love\" or \"valentine\"\n",
    "            if \" love \" in row[1].lower() or \" valentine \" in row[1].lower():\n",
    "                # Format GeoJSON feature\n",
    "                feature = \"\"\"\n",
    "                {\"type\": \"Feature\",\n",
    "                 \"properties\": {\"\"\"\n",
    "                feature += f\"\"\"\n",
    "                    \"FEATURE_NAME\": \"{row[1]}\",\n",
    "                    \"FEATURE_CLASS\": \"{row[2]}\",\n",
    "                    \"STATE_ALPHA\": \"{row[3]}\",\n",
    "                    \"ELEV_IN_FT\": \"{row[-4]}\"\n",
    "                \"\"\"\n",
    "                feature += \"\"\"},\n",
    "                \"geometry\": {\"type\": \"Point\",\"coordinates\":\"\"\"\n",
    "                feature += f'[{float(row[-10])},{float(row[-11])}]'\n",
    "                feature += '}},\\n'\n",
    "                # Write feature\n",
    "                geoJson.write(feature)\n",
    "        # Write home\n",
    "        geoJson.write(loveCentral)"
   ]
  },
  {
   "cell_type": "code",
   "execution_count": null,
   "metadata": {},
   "outputs": [],
   "source": []
  },
  {
   "cell_type": "code",
   "execution_count": null,
   "metadata": {},
   "outputs": [],
   "source": []
  }
 ],
 "metadata": {
  "kernelspec": {
   "display_name": "Python 3",
   "language": "python",
   "name": "python3"
  },
  "language_info": {
   "codemirror_mode": {
    "name": "ipython",
    "version": 3
   },
   "file_extension": ".py",
   "mimetype": "text/x-python",
   "name": "python",
   "nbconvert_exporter": "python",
   "pygments_lexer": "ipython3",
   "version": "3.7.1"
  }
 },
 "nbformat": 4,
 "nbformat_minor": 2
}
