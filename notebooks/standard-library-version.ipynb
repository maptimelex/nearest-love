{
 "cells": [
  {
   "cell_type": "markdown",
   "metadata": {},
   "source": [
    "# Find love\n",
    "A script that uses only standard library modules to extract GeoJSON from the GNIS place name database"
   ]
  },
  {
   "cell_type": "code",
   "execution_count": 69,
   "metadata": {},
   "outputs": [],
   "source": [
    "import csv"
   ]
  },
  {
   "cell_type": "markdown",
   "metadata": {},
   "source": [
    "## Set the input and output data with the below variables."
   ]
  },
  {
   "cell_type": "code",
   "execution_count": 70,
   "metadata": {},
   "outputs": [],
   "source": [
    "myData = \"data/NationalFile_20200101.txt\"\n",
    "myOutput = \"data/love-and-valentine.geojson\"\n",
    "myStats = \"data/love-and-valentine-stats.csv\""
   ]
  },
  {
   "cell_type": "markdown",
   "metadata": {},
   "source": [
    "## Set the names to search.\n",
    "Add space around name to search only that name"
   ]
  },
  {
   "cell_type": "code",
   "execution_count": 71,
   "metadata": {},
   "outputs": [],
   "source": [
    "loveList = [\" love \", \" lover \", \" loves \", \" valentine \", \" cupid \", \" heart \"]"
   ]
  },
  {
   "cell_type": "code",
   "execution_count": null,
   "metadata": {},
   "outputs": [],
   "source": [
    "# Always include home\n",
    "loveCentral = \"\"\"{\"type\": \"Feature\",\n",
    "                 \"properties\": {\n",
    "                    \"FEATURE_NAME\": \"❤️\",\n",
    "                    \"FEATURE_CLASS\": \"Home is where the heart is.\",\n",
    "                    \"STATE_ALPHA\": \"KY, Y'ALL\",\n",
    "                    \"ELEV_IN_FT\": \"-9999\" },\n",
    "                \"geometry\": {\"type\": \"Point\",\"coordinates\":[-84.5042992, 38.0387101]}}\n",
    "                ]}\n",
    "                \"\"\"\n",
    "# Start GeoJSON template\n",
    "templateStart = \"\"\"{\n",
    "    \"type\": \"FeatureCollection\",\n",
    "    \"features\": [\n",
    "\"\"\""
   ]
  },
  {
   "cell_type": "code",
   "execution_count": 72,
   "metadata": {},
   "outputs": [],
   "source": [
    "# Assign empty dictionary for stats compute\n",
    "fcount = {}\n",
    "\n",
    "# Search and write features\n",
    "with open(myData, encoding = 'utf-8') as csvFile:\n",
    "    #open empty file to write output\n",
    "    with open(myOutput, \"w\", encoding = 'utf-8', newline = \"\") as geoJson:\n",
    "        # create reader object \n",
    "        reader = csv.reader(csvFile, delimiter = '|')\n",
    "        # write beginning of GeoJSON\n",
    "        geoJson.write(templateStart)\n",
    "        for row in reader:\n",
    "            # Search for standalone \"love\" or \"valentine\"\n",
    "            for name in loveList: \n",
    "                if name in row[1].lower():\n",
    "                    if row[2] in fcount:\n",
    "                        fcount[row[2]] += 1\n",
    "                    else:\n",
    "                        fcount[row[2]] = 1\n",
    "                    # Format GeoJSON feature\n",
    "                    feature = \"\"\"\n",
    "                    {\"type\": \"Feature\",\n",
    "                     \"properties\": {\"\"\"\n",
    "                    feature += f\"\"\"\n",
    "                        \"FEATURE_NAME\": \"{row[1]}\",\n",
    "                        \"FEATURE_CLASS\": \"{row[2]}\",\n",
    "                        \"STATE_ALPHA\": \"{row[3]}\",\n",
    "                        \"ELEV_IN_FT\": \"{row[-4]}\"\n",
    "                    \"\"\"\n",
    "                    feature += \"\"\"},\n",
    "                    \"geometry\": {\"type\": \"Point\",\"coordinates\":\"\"\"\n",
    "                    feature += f'[{float(row[-10])}, {float(row[-11])}]'\n",
    "                    feature += '}},\\n'\n",
    "                    # Write feature\n",
    "                    geoJson.write(feature)\n",
    "        # Write home\n",
    "        geoJson.write(loveCentral)"
   ]
  },
  {
   "cell_type": "code",
   "execution_count": 73,
   "metadata": {},
   "outputs": [],
   "source": [
    "# Sort the fcount by value\n",
    "flist = list()\n",
    "for key, val in list(fcount.items()):\n",
    "    flist.append((val, key))\n",
    "\n",
    "flist.sort(reverse=True)"
   ]
  },
  {
   "cell_type": "code",
   "execution_count": 74,
   "metadata": {},
   "outputs": [
    {
     "name": "stdout",
     "output_type": "stream",
     "text": [
      "[925, 'Church']\n",
      "[469, 'School']\n",
      "[287, 'Cemetery']\n",
      "[71, 'Hospital']\n",
      "[61, 'Building']\n",
      "[27, 'Locale']\n",
      "[18, 'Park']\n",
      "[14, 'Stream']\n",
      "[11, 'Airport']\n",
      "[6, 'Dam']\n",
      "[5, 'Lake']\n",
      "[5, 'Civil']\n",
      "[4, 'Reservoir']\n",
      "[4, 'Post Office']\n",
      "[3, 'Summit']\n",
      "[3, 'Spring']\n",
      "[2, 'Populated Place']\n",
      "[2, 'Bridge']\n",
      "[2, 'Bench']\n",
      "[1, 'Ridge']\n",
      "[1, 'Mine']\n",
      "[1, 'Military']\n",
      "[1, 'Gap']\n",
      "[1, 'Crossing']\n",
      "[1, 'Canal']\n",
      "[1, 'Bar']\n"
     ]
    }
   ],
   "source": [
    "for key, item in flist:\n",
    "    print([key,item])"
   ]
  },
  {
   "cell_type": "code",
   "execution_count": 75,
   "metadata": {},
   "outputs": [],
   "source": [
    "with open(myStats, \"w\", encoding = 'utf-8', newline = \"\") as geoStats:\n",
    "    writer = csv.writer(geoStats)\n",
    "    writer.writerow([\"count\",\"feature_class\"])\n",
    "    for key, item in flist:\n",
    "        writer.writerow([key,item])"
   ]
  },
  {
   "cell_type": "code",
   "execution_count": null,
   "metadata": {},
   "outputs": [],
   "source": []
  }
 ],
 "metadata": {
  "kernelspec": {
   "display_name": "Python 3",
   "language": "python",
   "name": "python3"
  },
  "language_info": {
   "codemirror_mode": {
    "name": "ipython",
    "version": 3
   },
   "file_extension": ".py",
   "mimetype": "text/x-python",
   "name": "python",
   "nbconvert_exporter": "python",
   "pygments_lexer": "ipython3",
   "version": "3.7.1"
  }
 },
 "nbformat": 4,
 "nbformat_minor": 2
}
